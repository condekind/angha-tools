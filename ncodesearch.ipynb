{
 "cells": [
  {
   "cell_type": "code",
   "execution_count": null,
   "metadata": {},
   "outputs": [],
   "source": [
    "import re, json, subprocess\n",
    "from typing import List, Tuple\n",
    "import pandas as pd\n",
    "import matplotlib.pyplot as plt\n",
    "\n",
    "from modules.benchinfo import *\n",
    "\n",
    "%matplotlib inline"
   ]
  },
  {
   "cell_type": "code",
   "execution_count": null,
   "metadata": {},
   "outputs": [],
   "source": [
    "n = 10\n",
    "inputstr =                                              \\\n",
    "    '#include <stdlib.h>\\n'                             \\\n",
    "    '#include <stdio.h>\\n'                              \\\n",
    "    '\\n'                                                \\\n",
    "    'int main(int argc, char *argv[])\\n'                \\\n",
    "    '{\\n'                                               \\\n",
    "    '  int a, b = 0;\\n'                                 \\\n",
    "    '  print(\"Hello world!\\\\n\");\\n'                     \\\n",
    "    '}\\n'"
   ]
  },
  {
   "cell_type": "code",
   "execution_count": null,
   "metadata": {},
   "outputs": [],
   "source": [
    "df = pd.read_pickle('cache/stats.pkl.bz2')\n",
    "df.index.names = ['suite', 'name']\n",
    "benchmarkContainer = {\n",
    "    'referenceFeatures': { k: 0 for k in BenchmarkFeatures },\n",
    "    'closestBenchs': [ _ for _ in df.head(n) ],  # closest n in df (not implemented)\n",
    "}"
   ]
  },
  {
   "cell_type": "code",
   "execution_count": null,
   "metadata": {},
   "outputs": [],
   "source": [
    "\n",
    "def ff(pp: int) -> float:\n",
    "    return 'ff'\n",
    "\n",
    "type(ff(0.1))"
   ]
  },
  {
   "cell_type": "code",
   "execution_count": null,
   "metadata": {},
   "outputs": [],
   "source": [
    "f = plt.figure(figsize=(24, 18))\n",
    "plt.matshow(df.corr(), fignum=f.number)\n",
    "plt.xticks(range(df.shape[1]), df.columns, fontsize=18, rotation=90)\n",
    "plt.yticks(range(df.shape[1]), df.columns, fontsize=18)\n",
    "cb = plt.colorbar()\n",
    "cb.ax.tick_params(labelsize=18)\n",
    "# plt.title('', fontsize=16)"
   ]
  },
  {
   "cell_type": "markdown",
   "metadata": {},
   "source": [
    "<hr></hr>"
   ]
  },
  {
   "cell_type": "code",
   "execution_count": null,
   "metadata": {},
   "outputs": [],
   "source": [
    "def llvm_stat_clean(stat_line: str) -> Tuple[str, str, int]:\n",
    "    result = [_ for _ in stat_line.strip().split(maxsplit=3)]\n",
    "    return (result[1], result[3], int(result[0])) if len(result) == 4 else None\n",
    "\n",
    "def parse_opt_output(proc_result: subprocess.CompletedProcess) -> List[Tuple[str, str, int]]:\n",
    "    return [clean_line\n",
    "            for line   in proc_result.stderr.split('\\n')\n",
    "            if  re.search('^ *\\d+\\s+\\S+\\s+-\\s+.*', line) != None\n",
    "            and (clean_line := llvm_stat_clean(line))    != None]\n",
    "\n",
    "proc_result = subprocess.run('scripts/extract.sh',\n",
    "                                input=inputstr,\n",
    "                                capture_output=True,\n",
    "                                text=True)\n",
    "\n",
    "input_stats = parse_opt_output(proc_result)\n",
    "\n",
    "input_stats"
   ]
  },
  {
   "cell_type": "code",
   "execution_count": null,
   "metadata": {},
   "outputs": [],
   "source": [
    "def copy_features(dest, features):\n",
    "    for p, d, n in features:  # pass, description, number\n",
    "        if p in dest:\n",
    "            if d in dest[p]:\n",
    "                dest[p][d] += int(n)\n",
    "            else:\n",
    "                dest[p][d] = int(n)\n",
    "        else:\n",
    "            dest[p] = { d: int(n) }\n",
    "            \n",
    "def closest(*, program, df):\n",
    "    #"
   ]
  },
  {
   "cell_type": "code",
   "execution_count": null,
   "metadata": {},
   "outputs": [],
   "source": [
    "def gen_bench():\n",
    "    return {\n",
    "        \"name\": random.choice(bNames),\n",
    "        \"suite\": random.choice(sNames),\n",
    "        \"content\": random.choice(bCode),\n",
    "        \"features\": {\n",
    "            random.choice(): n\n",
    "            for //\n",
    "        }\n",
    "    }"
   ]
  },
  {
   "cell_type": "code",
   "execution_count": null,
   "metadata": {},
   "outputs": [],
   "source": [
    "#export interface Benchmark {\n",
    "#  name: string\n",
    "#  suite: string\n",
    "#  content: string\n",
    "#  features: BenchmarkFeatures\n",
    "#}\n",
    "#\n",
    "#export interface BenchmarkContainer {\n",
    "#  referenceFeatures: BenchmarkFeatures,\n",
    "#  closestBenchs: Array<Benchmark>\n",
    "#}"
   ]
  }
 ],
 "metadata": {
  "kernelspec": {
   "display_name": "Python 3",
   "language": "python",
   "name": "python3"
  },
  "language_info": {
   "codemirror_mode": {
    "name": "ipython",
    "version": 3
   },
   "file_extension": ".py",
   "mimetype": "text/x-python",
   "name": "python",
   "nbconvert_exporter": "python",
   "pygments_lexer": "ipython3",
   "version": "3.8.1"
  }
 },
 "nbformat": 4,
 "nbformat_minor": 4
}
