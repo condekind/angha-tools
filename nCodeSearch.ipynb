{
 "cells": [
  {
   "cell_type": "code",
   "execution_count": 1,
   "metadata": {},
   "outputs": [],
   "source": [
    "import re\n",
    "import json\n",
    "import pandas as pd\n",
    "import subprocess\n",
    "from ncodesearch import *"
   ]
  },
  {
   "cell_type": "code",
   "execution_count": 2,
   "metadata": {},
   "outputs": [],
   "source": [
    "n = 10\n",
    "inputstr =                                              \\\n",
    "    '#include <stdlib.h>\\n'                             \\\n",
    "    '#include <stdio.h>\\n'                              \\\n",
    "    '\\n'                                                \\\n",
    "    'int main(int argc, char *argv[])\\n'                \\\n",
    "    '{\\n'                                               \\\n",
    "    '  int a, b = 0;\\n'                                 \\\n",
    "    '  print(\"Hello world!\\\\n\");\\n'                     \\\n",
    "    '}\\n'\n",
    "llvm_path = '/home/condekind/LLVM/10/build/bin/'"
   ]
  },
  {
   "cell_type": "code",
   "execution_count": 3,
   "metadata": {},
   "outputs": [],
   "source": [
    "df = pd.read_pickle('cache/stats.pkl.bz2')\n",
    "df.index.names = ['suite', 'name']\n",
    "benchmarkContainer = {\n",
    "    'referenceFeatures': { k: 0 for k in BenchmarkFeatures },\n",
    "    'closestBenchs': [ _ for _ in df.head(n) ],  # closest n in df (not implemented)\n",
    "}"
   ]
  },
  {
   "cell_type": "code",
   "execution_count": 4,
   "metadata": {},
   "outputs": [
    {
     "data": {
      "text/plain": [
       "[('VarCounter', 'Number of variable uses (using GetNumUses).', '3'),\n",
       " ('cgscc-passmgr', 'Maximum CGSCCPassMgr iterations on one SCC', '1'),\n",
       " ('instcount', 'Number of Call insts', '1'),\n",
       " ('instcount', 'Number of Ret insts', '1'),\n",
       " ('instcount', 'Number of basic blocks', '1'),\n",
       " ('instcount', 'Number of non-external functions', '1'),\n",
       " ('instcount', 'Number of instructions (of all types)', '2'),\n",
       " ('mem2reg', \"Number of dead alloca's removed\", '1'),\n",
       " ('mem2reg', \"Number of alloca's promoted\", '4'),\n",
       " ('mem2reg', \"Number of alloca's promoted with a single store\", '3')]"
      ]
     },
     "execution_count": 4,
     "metadata": {},
     "output_type": "execute_result"
    }
   ],
   "source": [
    "def llvm_stat_clean(stat_line):\n",
    "    result = [_ for _ in stat_line.strip().split(maxsplit=3)]\n",
    "    return result[1], result[3], result[0]\n",
    "\n",
    "user_stats = subprocess.run('scripts/extract.sh',\n",
    "                                input=inputstr,\n",
    "                                capture_output=True,\n",
    "                                text=True)\n",
    "[\n",
    "    llvm_stat_clean(line)\n",
    "    for line in\n",
    "        user_stats.stderr.split('\\n')\n",
    "    if\n",
    "        re.search('^ *\\d+\\s+\\S+\\s+-\\s+.*', line) != None\n",
    "]"
   ]
  },
  {
   "cell_type": "code",
   "execution_count": null,
   "metadata": {},
   "outputs": [],
   "source": [
    "#export interface Benchmark {\n",
    "#  name: string\n",
    "#  suite: string\n",
    "#  content: string\n",
    "#  features: BenchmarkFeatures\n",
    "#}\n",
    "#\n",
    "#export interface BenchmarkContainer {\n",
    "#  referenceFeatures: BenchmarkFeatures,\n",
    "#  closestBenchs: Array<Benchmark>\n",
    "#}"
   ]
  }
 ],
 "metadata": {
  "kernelspec": {
   "display_name": "Python 3",
   "language": "python",
   "name": "python3"
  },
  "language_info": {
   "codemirror_mode": {
    "name": "ipython",
    "version": 3
   },
   "file_extension": ".py",
   "mimetype": "text/x-python",
   "name": "python",
   "nbconvert_exporter": "python",
   "pygments_lexer": "ipython3",
   "version": "3.8.1"
  }
 },
 "nbformat": 4,
 "nbformat_minor": 4
}
