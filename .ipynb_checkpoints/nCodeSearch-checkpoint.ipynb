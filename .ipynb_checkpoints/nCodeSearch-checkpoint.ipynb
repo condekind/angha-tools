{
 "cells": [
  {
   "cell_type": "code",
   "execution_count": null,
   "metadata": {},
   "outputs": [],
   "source": [
    "import json\n",
    "import pandas as pd\n",
    "import subprocess\n",
    "from ncodesearch import *"
   ]
  },
  {
   "cell_type": "code",
   "execution_count": null,
   "metadata": {},
   "outputs": [],
   "source": [
    "n = 10\n",
    "inputstr =                                              \\\n",
    "    '#include <stdlib.h>\\n'                             \\\n",
    "    '#include <stdio.h>\\n'                              \\\n",
    "    '\\n'                                                \\\n",
    "    'int main(int argc, char *argv[])\\n'                \\\n",
    "    '{\\n'                                               \\\n",
    "    '  int a, b = 0;\\n'                                 \\\n",
    "    '  print(\"Hello china!\\\\n Free Hong Kong!\\\\n\");\\n'  \\\n",
    "    '}\\n'\n",
    "referenceFeatures = ''.join(inputstr.split('\\n'))\n",
    "df = pd.read_pickle('cache/stats.pkl.bz2')\n",
    "df.index.names = ['suite', 'name']\n",
    "benchmarkContainer = {\n",
    "    'referenceFeatures': { k: 0 for k, _ in BenchmarkFeatures },\n",
    "    'closestBenchs': [print(_) for _ in df.head(n)],  # closest 10 in df\n",
    "}"
   ]
  },
  {
   "cell_type": "code",
   "execution_count": null,
   "metadata": {},
   "outputs": [],
   "source": [
    "def code2vec(code: str):\n",
    "    subprocess.run('compile.sh', input=code, capture_output=True)\n",
    "    return []"
   ]
  },
  {
   "cell_type": "code",
   "execution_count": null,
   "metadata": {},
   "outputs": [],
   "source": [
    "#export interface Benchmark {\n",
    "#  name: string\n",
    "#  suite: string\n",
    "#  content: string\n",
    "#  features: BenchmarkFeatures\n",
    "#}\n",
    "#\n",
    "#export interface BenchmarkContainer {\n",
    "#  referenceFeatures: BenchmarkFeatures,\n",
    "#  closestBenchs: Array<Benchmark>\n",
    "#}"
   ]
  }
 ],
 "metadata": {
  "kernelspec": {
   "display_name": "Python 3",
   "language": "python",
   "name": "python3"
  },
  "language_info": {
   "codemirror_mode": {
    "name": "ipython",
    "version": 3
   },
   "file_extension": ".py",
   "mimetype": "text/x-python",
   "name": "python",
   "nbconvert_exporter": "python",
   "pygments_lexer": "ipython3",
   "version": "3.8.0+"
  }
 },
 "nbformat": 4,
 "nbformat_minor": 4
}
